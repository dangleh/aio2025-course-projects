{
 "cells": [
  {
   "cell_type": "markdown",
   "metadata": {
    "id": "CfWdMCvXw7vL"
   },
   "source": [
    "## 1.Environment Setup"
   ]
  },
  {
   "cell_type": "code",
   "execution_count": 1,
   "metadata": {
    "colab": {
     "base_uri": "https://localhost:8080/"
    },
    "executionInfo": {
     "elapsed": 49,
     "status": "ok",
     "timestamp": 1755877264772,
     "user": {
      "displayName": "Quang Pham",
      "userId": "17869589521794019956"
     },
     "user_tz": -420
    },
    "id": "RuIFAMhRxEy0",
    "outputId": "754c20a6-129c-4683-e976-635b63933abc"
   },
   "outputs": [
    {
     "name": "stdout",
     "output_type": "stream",
     "text": [
      "Seed: 42\n"
     ]
    }
   ],
   "source": [
    "# Import thư viện cần thiết\n",
    "import os\n",
    "import random\n",
    "import warnings\n",
    "import numpy as np\n",
    "import pandas as pd\n",
    "import seaborn as sns\n",
    "import matplotlib.pyplot as plt\n",
    "\n",
    "from collections import Counter\n",
    "from sklearn.cluster import KMeans\n",
    "from sklearn.pipeline import Pipeline\n",
    "from sklearn.naive_bayes import GaussianNB\n",
    "from sklearn.ensemble import StackingClassifier\n",
    "from sklearn.tree import DecisionTreeClassifier\n",
    "from sklearn.neighbors import KNeighborsClassifier\n",
    "from sklearn.preprocessing import StandardScaler\n",
    "from sklearn.metrics import accuracy_score, classification_report\n",
    "from sklearn.model_selection import train_test_split\n",
    "\n",
    "warnings.filterwarnings(\"ignore\")\n",
    "\n",
    "# Đặt seed để đảm bảo kết quả nhất quán giữa các lần chạy\n",
    "SEED = 42\n",
    "os.environ[\"PYTHONHASHSEED\"] = str(SEED)\n",
    "np.random.seed(SEED)\n",
    "random.seed(SEED)\n",
    "print(f\"Seed: {SEED}\")"
   ]
  },
  {
   "cell_type": "markdown",
   "metadata": {
    "id": "Pj3YcYfqx0fO"
   },
   "source": [
    "## 2.Data Processing"
   ]
  },
  {
   "cell_type": "code",
   "execution_count": null,
   "metadata": {
    "colab": {
     "base_uri": "https://localhost:8080/"
    },
    "executionInfo": {
     "elapsed": 3421,
     "status": "ok",
     "timestamp": 1755877269471,
     "user": {
      "displayName": "Quang Pham",
      "userId": "17869589521794019956"
     },
     "user_tz": -420
    },
    "id": "L79d_X_IONs0",
    "outputId": "785b659d-b484-4b51-c424-314cb4188a18"
   },
   "outputs": [
    {
     "name": "stdout",
     "output_type": "stream",
     "text": [
      "Downloading...\n",
      "From: https://drive.google.com/uc?id=1T6AWCoyeC2MqGvmqZPPcA4ni5Md1k0sI\n",
      "To: /content/dataset.zip\n",
      "\r  0% 0.00/21.1k [00:00<?, ?B/s]\r100% 21.1k/21.1k [00:00<00:00, 59.0MB/s]\n"
     ]
    }
   ],
   "source": [
    "# https://drive.google.com/file/d/1T6AWCoyeC2MqGvmqZPPcA4ni5Md1k0sI/view?usp=sharing\n",
    "!gdown 1T6AWCoyeC2MqGvmqZPPcA4ni5Md1k0sI\n"
   ]
  },
  {
   "cell_type": "code",
   "execution_count": null,
   "metadata": {
    "colab": {
     "base_uri": "https://localhost:8080/"
    },
    "executionInfo": {
     "elapsed": 134,
     "status": "ok",
     "timestamp": 1755877272380,
     "user": {
      "displayName": "Quang Pham",
      "userId": "17869589521794019956"
     },
     "user_tz": -420
    },
    "id": "3oEcMr9Cu8-F",
    "outputId": "90624a90-2b37-4361-d5af-4ff46cc4c72a"
   },
   "outputs": [
    {
     "name": "stdout",
     "output_type": "stream",
     "text": [
      "Archive:  dataset.zip\n",
      "   creating: splits/\n",
      "  inflating: splits/fe_train.csv     \n",
      "  inflating: splits/raw_test.csv     \n",
      "  inflating: splits/raw_val.csv      \n",
      "  inflating: splits/fe_test.csv      \n",
      "  inflating: splits/fe_val.csv       \n",
      "  inflating: splits/fe_feature_names.json  \n",
      "  inflating: splits/raw_train.csv    \n"
     ]
    }
   ],
   "source": [
    "!unzip dataset.zip\n"
   ]
  },
  {
   "cell_type": "code",
   "execution_count": 2,
   "metadata": {
    "id": "qvmgAX6EH2Ui"
   },
   "outputs": [],
   "source": [
    "def read_csv(file_path):\n",
    "    df = pd.read_csv(file_path)\n",
    "    display(df.head())\n",
    "\n",
    "    X = df.drop(\"target\", axis=1)\n",
    "    y = df[\"target\"]\n",
    "    display(y.value_counts())\n",
    "\n",
    "    print(\"Shape df: \", df.shape)\n",
    "    print(\"Shape X: \", X.shape)\n",
    "    print(\"Shape y: \", y.shape)\n",
    "\n",
    "    return X, y"
   ]
  },
  {
   "cell_type": "markdown",
   "metadata": {
    "id": "GvfTDDbWFSpq"
   },
   "source": [
    "### 2.1 Original Dataset"
   ]
  },
  {
   "cell_type": "code",
   "execution_count": 3,
   "metadata": {
    "id": "NryFLD27F7gO"
   },
   "outputs": [
    {
     "data": {
      "text/html": [
       "<div>\n",
       "<style scoped>\n",
       "    .dataframe tbody tr th:only-of-type {\n",
       "        vertical-align: middle;\n",
       "    }\n",
       "\n",
       "    .dataframe tbody tr th {\n",
       "        vertical-align: top;\n",
       "    }\n",
       "\n",
       "    .dataframe thead th {\n",
       "        text-align: right;\n",
       "    }\n",
       "</style>\n",
       "<table border=\"1\" class=\"dataframe\">\n",
       "  <thead>\n",
       "    <tr style=\"text-align: right;\">\n",
       "      <th></th>\n",
       "      <th>age</th>\n",
       "      <th>trestbps</th>\n",
       "      <th>chol</th>\n",
       "      <th>thalach</th>\n",
       "      <th>oldpeak</th>\n",
       "      <th>sex</th>\n",
       "      <th>cp</th>\n",
       "      <th>fbs</th>\n",
       "      <th>restecg</th>\n",
       "      <th>exang</th>\n",
       "      <th>slope</th>\n",
       "      <th>ca</th>\n",
       "      <th>thal</th>\n",
       "      <th>target</th>\n",
       "    </tr>\n",
       "  </thead>\n",
       "  <tbody>\n",
       "    <tr>\n",
       "      <th>0</th>\n",
       "      <td>-0.729485</td>\n",
       "      <td>-0.395692</td>\n",
       "      <td>0.458139</td>\n",
       "      <td>0.708371</td>\n",
       "      <td>-0.445445</td>\n",
       "      <td>1.0</td>\n",
       "      <td>1.000000</td>\n",
       "      <td>0.0</td>\n",
       "      <td>1.0</td>\n",
       "      <td>0.0</td>\n",
       "      <td>0.5</td>\n",
       "      <td>0.000000</td>\n",
       "      <td>1.0</td>\n",
       "      <td>1</td>\n",
       "    </tr>\n",
       "    <tr>\n",
       "      <th>1</th>\n",
       "      <td>0.050166</td>\n",
       "      <td>-0.054513</td>\n",
       "      <td>0.230598</td>\n",
       "      <td>0.222495</td>\n",
       "      <td>-0.891627</td>\n",
       "      <td>1.0</td>\n",
       "      <td>0.333333</td>\n",
       "      <td>0.0</td>\n",
       "      <td>0.0</td>\n",
       "      <td>0.0</td>\n",
       "      <td>0.0</td>\n",
       "      <td>0.000000</td>\n",
       "      <td>0.0</td>\n",
       "      <td>0</td>\n",
       "    </tr>\n",
       "    <tr>\n",
       "      <th>2</th>\n",
       "      <td>-0.061212</td>\n",
       "      <td>0.059213</td>\n",
       "      <td>0.723605</td>\n",
       "      <td>0.399178</td>\n",
       "      <td>-0.891627</td>\n",
       "      <td>0.0</td>\n",
       "      <td>0.333333</td>\n",
       "      <td>1.0</td>\n",
       "      <td>1.0</td>\n",
       "      <td>1.0</td>\n",
       "      <td>0.0</td>\n",
       "      <td>0.333333</td>\n",
       "      <td>0.0</td>\n",
       "      <td>0</td>\n",
       "    </tr>\n",
       "    <tr>\n",
       "      <th>3</th>\n",
       "      <td>-0.061212</td>\n",
       "      <td>-1.305501</td>\n",
       "      <td>1.121803</td>\n",
       "      <td>0.266666</td>\n",
       "      <td>-0.891627</td>\n",
       "      <td>1.0</td>\n",
       "      <td>0.333333</td>\n",
       "      <td>0.0</td>\n",
       "      <td>0.0</td>\n",
       "      <td>0.0</td>\n",
       "      <td>0.0</td>\n",
       "      <td>0.000000</td>\n",
       "      <td>1.0</td>\n",
       "      <td>0</td>\n",
       "    </tr>\n",
       "    <tr>\n",
       "      <th>4</th>\n",
       "      <td>0.272924</td>\n",
       "      <td>0.514117</td>\n",
       "      <td>-0.167601</td>\n",
       "      <td>-1.190962</td>\n",
       "      <td>-0.713154</td>\n",
       "      <td>0.0</td>\n",
       "      <td>1.000000</td>\n",
       "      <td>0.0</td>\n",
       "      <td>0.0</td>\n",
       "      <td>1.0</td>\n",
       "      <td>0.5</td>\n",
       "      <td>0.000000</td>\n",
       "      <td>1.0</td>\n",
       "      <td>1</td>\n",
       "    </tr>\n",
       "  </tbody>\n",
       "</table>\n",
       "</div>"
      ],
      "text/plain": [
       "        age  trestbps      chol   thalach   oldpeak  sex        cp  fbs  \\\n",
       "0 -0.729485 -0.395692  0.458139  0.708371 -0.445445  1.0  1.000000  0.0   \n",
       "1  0.050166 -0.054513  0.230598  0.222495 -0.891627  1.0  0.333333  0.0   \n",
       "2 -0.061212  0.059213  0.723605  0.399178 -0.891627  0.0  0.333333  1.0   \n",
       "3 -0.061212 -1.305501  1.121803  0.266666 -0.891627  1.0  0.333333  0.0   \n",
       "4  0.272924  0.514117 -0.167601 -1.190962 -0.713154  0.0  1.000000  0.0   \n",
       "\n",
       "   restecg  exang  slope        ca  thal  target  \n",
       "0      1.0    0.0    0.5  0.000000   1.0       1  \n",
       "1      0.0    0.0    0.0  0.000000   0.0       0  \n",
       "2      1.0    1.0    0.0  0.333333   0.0       0  \n",
       "3      0.0    0.0    0.0  0.000000   1.0       0  \n",
       "4      0.0    1.0    0.5  0.000000   1.0       1  "
      ]
     },
     "metadata": {},
     "output_type": "display_data"
    },
    {
     "data": {
      "text/plain": [
       "target\n",
       "0    131\n",
       "1    111\n",
       "Name: count, dtype: int64"
      ]
     },
     "metadata": {},
     "output_type": "display_data"
    },
    {
     "name": "stdout",
     "output_type": "stream",
     "text": [
      "Shape df:  (242, 14)\n",
      "Shape X:  (242, 13)\n",
      "Shape y:  (242,)\n"
     ]
    }
   ],
   "source": [
    "X_train, y_train = read_csv(\"splits/raw_train.csv\") "
   ]
  },
  {
   "cell_type": "code",
   "execution_count": 4,
   "metadata": {
    "id": "vNt4zdxqGxXI"
   },
   "outputs": [
    {
     "data": {
      "text/html": [
       "<div>\n",
       "<style scoped>\n",
       "    .dataframe tbody tr th:only-of-type {\n",
       "        vertical-align: middle;\n",
       "    }\n",
       "\n",
       "    .dataframe tbody tr th {\n",
       "        vertical-align: top;\n",
       "    }\n",
       "\n",
       "    .dataframe thead th {\n",
       "        text-align: right;\n",
       "    }\n",
       "</style>\n",
       "<table border=\"1\" class=\"dataframe\">\n",
       "  <thead>\n",
       "    <tr style=\"text-align: right;\">\n",
       "      <th></th>\n",
       "      <th>age</th>\n",
       "      <th>trestbps</th>\n",
       "      <th>chol</th>\n",
       "      <th>thalach</th>\n",
       "      <th>oldpeak</th>\n",
       "      <th>sex</th>\n",
       "      <th>cp</th>\n",
       "      <th>fbs</th>\n",
       "      <th>restecg</th>\n",
       "      <th>exang</th>\n",
       "      <th>slope</th>\n",
       "      <th>ca</th>\n",
       "      <th>thal</th>\n",
       "      <th>target</th>\n",
       "    </tr>\n",
       "  </thead>\n",
       "  <tbody>\n",
       "    <tr>\n",
       "      <th>0</th>\n",
       "      <td>-1.063621</td>\n",
       "      <td>0.400391</td>\n",
       "      <td>-0.262410</td>\n",
       "      <td>0.089984</td>\n",
       "      <td>-0.713154</td>\n",
       "      <td>0.0</td>\n",
       "      <td>1.000000</td>\n",
       "      <td>0.0</td>\n",
       "      <td>1.0</td>\n",
       "      <td>1.0</td>\n",
       "      <td>0.5</td>\n",
       "      <td>0.0</td>\n",
       "      <td>0.0</td>\n",
       "      <td>0</td>\n",
       "    </tr>\n",
       "    <tr>\n",
       "      <th>1</th>\n",
       "      <td>1.720848</td>\n",
       "      <td>-0.054513</td>\n",
       "      <td>1.368307</td>\n",
       "      <td>-1.809349</td>\n",
       "      <td>1.250048</td>\n",
       "      <td>1.0</td>\n",
       "      <td>1.000000</td>\n",
       "      <td>0.0</td>\n",
       "      <td>1.0</td>\n",
       "      <td>0.0</td>\n",
       "      <td>0.5</td>\n",
       "      <td>1.0</td>\n",
       "      <td>0.0</td>\n",
       "      <td>1</td>\n",
       "    </tr>\n",
       "    <tr>\n",
       "      <th>2</th>\n",
       "      <td>-0.061212</td>\n",
       "      <td>1.082748</td>\n",
       "      <td>-0.338257</td>\n",
       "      <td>0.664201</td>\n",
       "      <td>0.536156</td>\n",
       "      <td>1.0</td>\n",
       "      <td>0.666667</td>\n",
       "      <td>0.0</td>\n",
       "      <td>1.0</td>\n",
       "      <td>0.0</td>\n",
       "      <td>0.0</td>\n",
       "      <td>0.0</td>\n",
       "      <td>1.0</td>\n",
       "      <td>0</td>\n",
       "    </tr>\n",
       "    <tr>\n",
       "      <th>3</th>\n",
       "      <td>0.941197</td>\n",
       "      <td>0.229802</td>\n",
       "      <td>0.040979</td>\n",
       "      <td>0.973394</td>\n",
       "      <td>-0.891627</td>\n",
       "      <td>0.0</td>\n",
       "      <td>0.666667</td>\n",
       "      <td>0.0</td>\n",
       "      <td>1.0</td>\n",
       "      <td>0.0</td>\n",
       "      <td>0.0</td>\n",
       "      <td>0.0</td>\n",
       "      <td>0.0</td>\n",
       "      <td>0</td>\n",
       "    </tr>\n",
       "    <tr>\n",
       "      <th>4</th>\n",
       "      <td>0.495681</td>\n",
       "      <td>0.229802</td>\n",
       "      <td>-0.300333</td>\n",
       "      <td>0.487519</td>\n",
       "      <td>-0.445445</td>\n",
       "      <td>1.0</td>\n",
       "      <td>1.000000</td>\n",
       "      <td>0.0</td>\n",
       "      <td>0.0</td>\n",
       "      <td>0.0</td>\n",
       "      <td>0.5</td>\n",
       "      <td>0.0</td>\n",
       "      <td>1.0</td>\n",
       "      <td>0</td>\n",
       "    </tr>\n",
       "  </tbody>\n",
       "</table>\n",
       "</div>"
      ],
      "text/plain": [
       "        age  trestbps      chol   thalach   oldpeak  sex        cp  fbs  \\\n",
       "0 -1.063621  0.400391 -0.262410  0.089984 -0.713154  0.0  1.000000  0.0   \n",
       "1  1.720848 -0.054513  1.368307 -1.809349  1.250048  1.0  1.000000  0.0   \n",
       "2 -0.061212  1.082748 -0.338257  0.664201  0.536156  1.0  0.666667  0.0   \n",
       "3  0.941197  0.229802  0.040979  0.973394 -0.891627  0.0  0.666667  0.0   \n",
       "4  0.495681  0.229802 -0.300333  0.487519 -0.445445  1.0  1.000000  0.0   \n",
       "\n",
       "   restecg  exang  slope   ca  thal  target  \n",
       "0      1.0    1.0    0.5  0.0   0.0       0  \n",
       "1      1.0    0.0    0.5  1.0   0.0       1  \n",
       "2      1.0    0.0    0.0  0.0   1.0       0  \n",
       "3      1.0    0.0    0.0  0.0   0.0       0  \n",
       "4      0.0    0.0    0.5  0.0   1.0       0  "
      ]
     },
     "metadata": {},
     "output_type": "display_data"
    },
    {
     "data": {
      "text/plain": [
       "target\n",
       "0    16\n",
       "1    14\n",
       "Name: count, dtype: int64"
      ]
     },
     "metadata": {},
     "output_type": "display_data"
    },
    {
     "name": "stdout",
     "output_type": "stream",
     "text": [
      "Shape df:  (30, 14)\n",
      "Shape X:  (30, 13)\n",
      "Shape y:  (30,)\n"
     ]
    }
   ],
   "source": [
    "X_val, y_val = read_csv(\"splits/raw_val.csv\")"
   ]
  },
  {
   "cell_type": "code",
   "execution_count": 5,
   "metadata": {
    "id": "7UX46cMbGzci"
   },
   "outputs": [
    {
     "data": {
      "text/html": [
       "<div>\n",
       "<style scoped>\n",
       "    .dataframe tbody tr th:only-of-type {\n",
       "        vertical-align: middle;\n",
       "    }\n",
       "\n",
       "    .dataframe tbody tr th {\n",
       "        vertical-align: top;\n",
       "    }\n",
       "\n",
       "    .dataframe thead th {\n",
       "        text-align: right;\n",
       "    }\n",
       "</style>\n",
       "<table border=\"1\" class=\"dataframe\">\n",
       "  <thead>\n",
       "    <tr style=\"text-align: right;\">\n",
       "      <th></th>\n",
       "      <th>age</th>\n",
       "      <th>trestbps</th>\n",
       "      <th>chol</th>\n",
       "      <th>thalach</th>\n",
       "      <th>oldpeak</th>\n",
       "      <th>sex</th>\n",
       "      <th>cp</th>\n",
       "      <th>fbs</th>\n",
       "      <th>restecg</th>\n",
       "      <th>exang</th>\n",
       "      <th>slope</th>\n",
       "      <th>ca</th>\n",
       "      <th>thal</th>\n",
       "      <th>target</th>\n",
       "    </tr>\n",
       "  </thead>\n",
       "  <tbody>\n",
       "    <tr>\n",
       "      <th>0</th>\n",
       "      <td>0.384303</td>\n",
       "      <td>-0.168240</td>\n",
       "      <td>-0.641646</td>\n",
       "      <td>-0.837597</td>\n",
       "      <td>1.071575</td>\n",
       "      <td>1.0</td>\n",
       "      <td>1.000000</td>\n",
       "      <td>0.0</td>\n",
       "      <td>1.0</td>\n",
       "      <td>1.0</td>\n",
       "      <td>0.5</td>\n",
       "      <td>1.0</td>\n",
       "      <td>1.0</td>\n",
       "      <td>1</td>\n",
       "    </tr>\n",
       "    <tr>\n",
       "      <th>1</th>\n",
       "      <td>-2.288787</td>\n",
       "      <td>-0.736870</td>\n",
       "      <td>-1.286348</td>\n",
       "      <td>1.061736</td>\n",
       "      <td>-0.891627</td>\n",
       "      <td>1.0</td>\n",
       "      <td>0.000000</td>\n",
       "      <td>0.0</td>\n",
       "      <td>1.0</td>\n",
       "      <td>0.0</td>\n",
       "      <td>0.0</td>\n",
       "      <td>0.0</td>\n",
       "      <td>0.0</td>\n",
       "      <td>0</td>\n",
       "    </tr>\n",
       "    <tr>\n",
       "      <th>2</th>\n",
       "      <td>0.829818</td>\n",
       "      <td>-0.054513</td>\n",
       "      <td>-0.357219</td>\n",
       "      <td>-0.175039</td>\n",
       "      <td>0.714629</td>\n",
       "      <td>1.0</td>\n",
       "      <td>0.666667</td>\n",
       "      <td>0.0</td>\n",
       "      <td>0.0</td>\n",
       "      <td>0.0</td>\n",
       "      <td>0.5</td>\n",
       "      <td>1.0</td>\n",
       "      <td>1.0</td>\n",
       "      <td>0</td>\n",
       "    </tr>\n",
       "    <tr>\n",
       "      <th>3</th>\n",
       "      <td>-0.395349</td>\n",
       "      <td>-0.054513</td>\n",
       "      <td>0.116827</td>\n",
       "      <td>-0.042528</td>\n",
       "      <td>-0.445445</td>\n",
       "      <td>0.0</td>\n",
       "      <td>0.666667</td>\n",
       "      <td>0.0</td>\n",
       "      <td>1.0</td>\n",
       "      <td>0.0</td>\n",
       "      <td>0.0</td>\n",
       "      <td>0.0</td>\n",
       "      <td>0.0</td>\n",
       "      <td>0</td>\n",
       "    </tr>\n",
       "    <tr>\n",
       "      <th>4</th>\n",
       "      <td>-1.397757</td>\n",
       "      <td>-0.623144</td>\n",
       "      <td>-0.186562</td>\n",
       "      <td>1.945146</td>\n",
       "      <td>-0.177735</td>\n",
       "      <td>1.0</td>\n",
       "      <td>0.666667</td>\n",
       "      <td>1.0</td>\n",
       "      <td>0.0</td>\n",
       "      <td>0.0</td>\n",
       "      <td>1.0</td>\n",
       "      <td>0.0</td>\n",
       "      <td>1.0</td>\n",
       "      <td>0</td>\n",
       "    </tr>\n",
       "  </tbody>\n",
       "</table>\n",
       "</div>"
      ],
      "text/plain": [
       "        age  trestbps      chol   thalach   oldpeak  sex        cp  fbs  \\\n",
       "0  0.384303 -0.168240 -0.641646 -0.837597  1.071575  1.0  1.000000  0.0   \n",
       "1 -2.288787 -0.736870 -1.286348  1.061736 -0.891627  1.0  0.000000  0.0   \n",
       "2  0.829818 -0.054513 -0.357219 -0.175039  0.714629  1.0  0.666667  0.0   \n",
       "3 -0.395349 -0.054513  0.116827 -0.042528 -0.445445  0.0  0.666667  0.0   \n",
       "4 -1.397757 -0.623144 -0.186562  1.945146 -0.177735  1.0  0.666667  1.0   \n",
       "\n",
       "   restecg  exang  slope   ca  thal  target  \n",
       "0      1.0    1.0    0.5  1.0   1.0       1  \n",
       "1      1.0    0.0    0.0  0.0   0.0       0  \n",
       "2      0.0    0.0    0.5  1.0   1.0       0  \n",
       "3      1.0    0.0    0.0  0.0   0.0       0  \n",
       "4      0.0    0.0    1.0  0.0   1.0       0  "
      ]
     },
     "metadata": {},
     "output_type": "display_data"
    },
    {
     "data": {
      "text/plain": [
       "target\n",
       "0    17\n",
       "1    14\n",
       "Name: count, dtype: int64"
      ]
     },
     "metadata": {},
     "output_type": "display_data"
    },
    {
     "name": "stdout",
     "output_type": "stream",
     "text": [
      "Shape df:  (31, 14)\n",
      "Shape X:  (31, 13)\n",
      "Shape y:  (31,)\n"
     ]
    }
   ],
   "source": [
    "X_test, y_test = read_csv(\"splits/raw_test.csv\")"
   ]
  },
  {
   "cell_type": "markdown",
   "metadata": {
    "id": "EMwUSQdLFWlM"
   },
   "source": [
    "### 2.2 Feature Engineering Dataset"
   ]
  },
  {
   "cell_type": "code",
   "execution_count": 6,
   "metadata": {
    "id": "SvaktUNcIUZQ"
   },
   "outputs": [
    {
     "data": {
      "text/html": [
       "<div>\n",
       "<style scoped>\n",
       "    .dataframe tbody tr th:only-of-type {\n",
       "        vertical-align: middle;\n",
       "    }\n",
       "\n",
       "    .dataframe tbody tr th {\n",
       "        vertical-align: top;\n",
       "    }\n",
       "\n",
       "    .dataframe thead th {\n",
       "        text-align: right;\n",
       "    }\n",
       "</style>\n",
       "<table border=\"1\" class=\"dataframe\">\n",
       "  <thead>\n",
       "    <tr style=\"text-align: right;\">\n",
       "      <th></th>\n",
       "      <th>thal_3.0</th>\n",
       "      <th>thal_7.0</th>\n",
       "      <th>cp_4.0</th>\n",
       "      <th>ca_0.0</th>\n",
       "      <th>exang_1.0</th>\n",
       "      <th>exang_0.0</th>\n",
       "      <th>oldpeak</th>\n",
       "      <th>slope_1.0</th>\n",
       "      <th>chol</th>\n",
       "      <th>slope_2.0</th>\n",
       "      <th>thalach</th>\n",
       "      <th>hr_ratio</th>\n",
       "      <th>sex_1.0</th>\n",
       "      <th>target</th>\n",
       "    </tr>\n",
       "  </thead>\n",
       "  <tbody>\n",
       "    <tr>\n",
       "      <th>0</th>\n",
       "      <td>0.0</td>\n",
       "      <td>1.0</td>\n",
       "      <td>1.0</td>\n",
       "      <td>1.0</td>\n",
       "      <td>0.0</td>\n",
       "      <td>1.0</td>\n",
       "      <td>-0.445445</td>\n",
       "      <td>0.0</td>\n",
       "      <td>0.458139</td>\n",
       "      <td>1.0</td>\n",
       "      <td>0.708371</td>\n",
       "      <td>0.726265</td>\n",
       "      <td>1.0</td>\n",
       "      <td>1</td>\n",
       "    </tr>\n",
       "    <tr>\n",
       "      <th>1</th>\n",
       "      <td>1.0</td>\n",
       "      <td>0.0</td>\n",
       "      <td>0.0</td>\n",
       "      <td>1.0</td>\n",
       "      <td>0.0</td>\n",
       "      <td>1.0</td>\n",
       "      <td>-0.891627</td>\n",
       "      <td>1.0</td>\n",
       "      <td>0.230598</td>\n",
       "      <td>0.0</td>\n",
       "      <td>0.222495</td>\n",
       "      <td>-0.054469</td>\n",
       "      <td>1.0</td>\n",
       "      <td>0</td>\n",
       "    </tr>\n",
       "    <tr>\n",
       "      <th>2</th>\n",
       "      <td>1.0</td>\n",
       "      <td>0.0</td>\n",
       "      <td>0.0</td>\n",
       "      <td>0.0</td>\n",
       "      <td>1.0</td>\n",
       "      <td>0.0</td>\n",
       "      <td>-0.891627</td>\n",
       "      <td>1.0</td>\n",
       "      <td>0.723605</td>\n",
       "      <td>0.0</td>\n",
       "      <td>0.399178</td>\n",
       "      <td>0.099522</td>\n",
       "      <td>0.0</td>\n",
       "      <td>0</td>\n",
       "    </tr>\n",
       "    <tr>\n",
       "      <th>3</th>\n",
       "      <td>0.0</td>\n",
       "      <td>1.0</td>\n",
       "      <td>0.0</td>\n",
       "      <td>1.0</td>\n",
       "      <td>0.0</td>\n",
       "      <td>1.0</td>\n",
       "      <td>-0.891627</td>\n",
       "      <td>1.0</td>\n",
       "      <td>1.121803</td>\n",
       "      <td>0.0</td>\n",
       "      <td>0.266666</td>\n",
       "      <td>0.031766</td>\n",
       "      <td>1.0</td>\n",
       "      <td>0</td>\n",
       "    </tr>\n",
       "    <tr>\n",
       "      <th>4</th>\n",
       "      <td>0.0</td>\n",
       "      <td>1.0</td>\n",
       "      <td>1.0</td>\n",
       "      <td>1.0</td>\n",
       "      <td>1.0</td>\n",
       "      <td>0.0</td>\n",
       "      <td>-0.713154</td>\n",
       "      <td>0.0</td>\n",
       "      <td>-0.167601</td>\n",
       "      <td>1.0</td>\n",
       "      <td>-1.190962</td>\n",
       "      <td>-0.859761</td>\n",
       "      <td>0.0</td>\n",
       "      <td>1</td>\n",
       "    </tr>\n",
       "  </tbody>\n",
       "</table>\n",
       "</div>"
      ],
      "text/plain": [
       "   thal_3.0  thal_7.0  cp_4.0  ca_0.0  exang_1.0  exang_0.0   oldpeak  \\\n",
       "0       0.0       1.0     1.0     1.0        0.0        1.0 -0.445445   \n",
       "1       1.0       0.0     0.0     1.0        0.0        1.0 -0.891627   \n",
       "2       1.0       0.0     0.0     0.0        1.0        0.0 -0.891627   \n",
       "3       0.0       1.0     0.0     1.0        0.0        1.0 -0.891627   \n",
       "4       0.0       1.0     1.0     1.0        1.0        0.0 -0.713154   \n",
       "\n",
       "   slope_1.0      chol  slope_2.0   thalach  hr_ratio  sex_1.0  target  \n",
       "0        0.0  0.458139        1.0  0.708371  0.726265      1.0       1  \n",
       "1        1.0  0.230598        0.0  0.222495 -0.054469      1.0       0  \n",
       "2        1.0  0.723605        0.0  0.399178  0.099522      0.0       0  \n",
       "3        1.0  1.121803        0.0  0.266666  0.031766      1.0       0  \n",
       "4        0.0 -0.167601        1.0 -1.190962 -0.859761      0.0       1  "
      ]
     },
     "metadata": {},
     "output_type": "display_data"
    },
    {
     "data": {
      "text/plain": [
       "target\n",
       "0    131\n",
       "1    111\n",
       "Name: count, dtype: int64"
      ]
     },
     "metadata": {},
     "output_type": "display_data"
    },
    {
     "name": "stdout",
     "output_type": "stream",
     "text": [
      "Shape df:  (242, 14)\n",
      "Shape X:  (242, 13)\n",
      "Shape y:  (242,)\n"
     ]
    }
   ],
   "source": [
    "X_train_fe, y_train_fe = read_csv(\"splits/fe_train.csv\") "
   ]
  },
  {
   "cell_type": "code",
   "execution_count": 9,
   "metadata": {
    "id": "QvTbShmpMvPz"
   },
   "outputs": [
    {
     "data": {
      "text/html": [
       "<div>\n",
       "<style scoped>\n",
       "    .dataframe tbody tr th:only-of-type {\n",
       "        vertical-align: middle;\n",
       "    }\n",
       "\n",
       "    .dataframe tbody tr th {\n",
       "        vertical-align: top;\n",
       "    }\n",
       "\n",
       "    .dataframe thead th {\n",
       "        text-align: right;\n",
       "    }\n",
       "</style>\n",
       "<table border=\"1\" class=\"dataframe\">\n",
       "  <thead>\n",
       "    <tr style=\"text-align: right;\">\n",
       "      <th></th>\n",
       "      <th>thal_3.0</th>\n",
       "      <th>thal_7.0</th>\n",
       "      <th>cp_4.0</th>\n",
       "      <th>ca_0.0</th>\n",
       "      <th>exang_1.0</th>\n",
       "      <th>exang_0.0</th>\n",
       "      <th>oldpeak</th>\n",
       "      <th>slope_1.0</th>\n",
       "      <th>chol</th>\n",
       "      <th>slope_2.0</th>\n",
       "      <th>thalach</th>\n",
       "      <th>hr_ratio</th>\n",
       "      <th>sex_1.0</th>\n",
       "      <th>target</th>\n",
       "    </tr>\n",
       "  </thead>\n",
       "  <tbody>\n",
       "    <tr>\n",
       "      <th>0</th>\n",
       "      <td>1.0</td>\n",
       "      <td>0.0</td>\n",
       "      <td>1.0</td>\n",
       "      <td>1.0</td>\n",
       "      <td>1.0</td>\n",
       "      <td>0.0</td>\n",
       "      <td>-0.713154</td>\n",
       "      <td>0.0</td>\n",
       "      <td>-0.262410</td>\n",
       "      <td>1.0</td>\n",
       "      <td>0.089984</td>\n",
       "      <td>0.628019</td>\n",
       "      <td>0.0</td>\n",
       "      <td>0</td>\n",
       "    </tr>\n",
       "    <tr>\n",
       "      <th>1</th>\n",
       "      <td>1.0</td>\n",
       "      <td>0.0</td>\n",
       "      <td>1.0</td>\n",
       "      <td>0.0</td>\n",
       "      <td>0.0</td>\n",
       "      <td>1.0</td>\n",
       "      <td>1.250048</td>\n",
       "      <td>0.0</td>\n",
       "      <td>1.368307</td>\n",
       "      <td>1.0</td>\n",
       "      <td>-1.809349</td>\n",
       "      <td>-1.592443</td>\n",
       "      <td>1.0</td>\n",
       "      <td>1</td>\n",
       "    </tr>\n",
       "    <tr>\n",
       "      <th>2</th>\n",
       "      <td>0.0</td>\n",
       "      <td>1.0</td>\n",
       "      <td>0.0</td>\n",
       "      <td>1.0</td>\n",
       "      <td>0.0</td>\n",
       "      <td>1.0</td>\n",
       "      <td>0.536156</td>\n",
       "      <td>1.0</td>\n",
       "      <td>-0.338257</td>\n",
       "      <td>0.0</td>\n",
       "      <td>0.664201</td>\n",
       "      <td>0.235034</td>\n",
       "      <td>1.0</td>\n",
       "      <td>0</td>\n",
       "    </tr>\n",
       "    <tr>\n",
       "      <th>3</th>\n",
       "      <td>1.0</td>\n",
       "      <td>0.0</td>\n",
       "      <td>0.0</td>\n",
       "      <td>1.0</td>\n",
       "      <td>0.0</td>\n",
       "      <td>1.0</td>\n",
       "      <td>-0.891627</td>\n",
       "      <td>1.0</td>\n",
       "      <td>0.040979</td>\n",
       "      <td>0.0</td>\n",
       "      <td>0.973394</td>\n",
       "      <td>-0.161823</td>\n",
       "      <td>0.0</td>\n",
       "      <td>0</td>\n",
       "    </tr>\n",
       "    <tr>\n",
       "      <th>4</th>\n",
       "      <td>0.0</td>\n",
       "      <td>1.0</td>\n",
       "      <td>1.0</td>\n",
       "      <td>1.0</td>\n",
       "      <td>0.0</td>\n",
       "      <td>1.0</td>\n",
       "      <td>-0.445445</td>\n",
       "      <td>0.0</td>\n",
       "      <td>-0.300333</td>\n",
       "      <td>1.0</td>\n",
       "      <td>0.487519</td>\n",
       "      <td>-0.163464</td>\n",
       "      <td>1.0</td>\n",
       "      <td>0</td>\n",
       "    </tr>\n",
       "  </tbody>\n",
       "</table>\n",
       "</div>"
      ],
      "text/plain": [
       "   thal_3.0  thal_7.0  cp_4.0  ca_0.0  exang_1.0  exang_0.0   oldpeak  \\\n",
       "0       1.0       0.0     1.0     1.0        1.0        0.0 -0.713154   \n",
       "1       1.0       0.0     1.0     0.0        0.0        1.0  1.250048   \n",
       "2       0.0       1.0     0.0     1.0        0.0        1.0  0.536156   \n",
       "3       1.0       0.0     0.0     1.0        0.0        1.0 -0.891627   \n",
       "4       0.0       1.0     1.0     1.0        0.0        1.0 -0.445445   \n",
       "\n",
       "   slope_1.0      chol  slope_2.0   thalach  hr_ratio  sex_1.0  target  \n",
       "0        0.0 -0.262410        1.0  0.089984  0.628019      0.0       0  \n",
       "1        0.0  1.368307        1.0 -1.809349 -1.592443      1.0       1  \n",
       "2        1.0 -0.338257        0.0  0.664201  0.235034      1.0       0  \n",
       "3        1.0  0.040979        0.0  0.973394 -0.161823      0.0       0  \n",
       "4        0.0 -0.300333        1.0  0.487519 -0.163464      1.0       0  "
      ]
     },
     "metadata": {},
     "output_type": "display_data"
    },
    {
     "data": {
      "text/plain": [
       "target\n",
       "0    16\n",
       "1    14\n",
       "Name: count, dtype: int64"
      ]
     },
     "metadata": {},
     "output_type": "display_data"
    },
    {
     "name": "stdout",
     "output_type": "stream",
     "text": [
      "Shape df:  (30, 14)\n",
      "Shape X:  (30, 13)\n",
      "Shape y:  (30,)\n"
     ]
    }
   ],
   "source": [
    "X_val_fe, y_val_fe = read_csv(\"splits/fe_val.csv\") "
   ]
  },
  {
   "cell_type": "code",
   "execution_count": 8,
   "metadata": {
    "id": "h_0TrLFYHJKG"
   },
   "outputs": [
    {
     "data": {
      "text/html": [
       "<div>\n",
       "<style scoped>\n",
       "    .dataframe tbody tr th:only-of-type {\n",
       "        vertical-align: middle;\n",
       "    }\n",
       "\n",
       "    .dataframe tbody tr th {\n",
       "        vertical-align: top;\n",
       "    }\n",
       "\n",
       "    .dataframe thead th {\n",
       "        text-align: right;\n",
       "    }\n",
       "</style>\n",
       "<table border=\"1\" class=\"dataframe\">\n",
       "  <thead>\n",
       "    <tr style=\"text-align: right;\">\n",
       "      <th></th>\n",
       "      <th>thal_3.0</th>\n",
       "      <th>thal_7.0</th>\n",
       "      <th>cp_4.0</th>\n",
       "      <th>ca_0.0</th>\n",
       "      <th>exang_1.0</th>\n",
       "      <th>exang_0.0</th>\n",
       "      <th>oldpeak</th>\n",
       "      <th>slope_1.0</th>\n",
       "      <th>chol</th>\n",
       "      <th>slope_2.0</th>\n",
       "      <th>thalach</th>\n",
       "      <th>hr_ratio</th>\n",
       "      <th>sex_1.0</th>\n",
       "      <th>target</th>\n",
       "    </tr>\n",
       "  </thead>\n",
       "  <tbody>\n",
       "    <tr>\n",
       "      <th>0</th>\n",
       "      <td>0.0</td>\n",
       "      <td>1.0</td>\n",
       "      <td>1.0</td>\n",
       "      <td>0.0</td>\n",
       "      <td>1.0</td>\n",
       "      <td>0.0</td>\n",
       "      <td>1.071575</td>\n",
       "      <td>0.0</td>\n",
       "      <td>-0.641646</td>\n",
       "      <td>1.0</td>\n",
       "      <td>-0.837597</td>\n",
       "      <td>-0.736915</td>\n",
       "      <td>1.0</td>\n",
       "      <td>1</td>\n",
       "    </tr>\n",
       "    <tr>\n",
       "      <th>1</th>\n",
       "      <td>1.0</td>\n",
       "      <td>0.0</td>\n",
       "      <td>0.0</td>\n",
       "      <td>1.0</td>\n",
       "      <td>0.0</td>\n",
       "      <td>1.0</td>\n",
       "      <td>-0.891627</td>\n",
       "      <td>1.0</td>\n",
       "      <td>-1.286348</td>\n",
       "      <td>0.0</td>\n",
       "      <td>1.061736</td>\n",
       "      <td>2.749978</td>\n",
       "      <td>1.0</td>\n",
       "      <td>0</td>\n",
       "    </tr>\n",
       "    <tr>\n",
       "      <th>2</th>\n",
       "      <td>0.0</td>\n",
       "      <td>1.0</td>\n",
       "      <td>0.0</td>\n",
       "      <td>0.0</td>\n",
       "      <td>0.0</td>\n",
       "      <td>1.0</td>\n",
       "      <td>0.714629</td>\n",
       "      <td>0.0</td>\n",
       "      <td>-0.357219</td>\n",
       "      <td>1.0</td>\n",
       "      <td>-0.175039</td>\n",
       "      <td>-0.619566</td>\n",
       "      <td>1.0</td>\n",
       "      <td>0</td>\n",
       "    </tr>\n",
       "    <tr>\n",
       "      <th>3</th>\n",
       "      <td>1.0</td>\n",
       "      <td>0.0</td>\n",
       "      <td>0.0</td>\n",
       "      <td>1.0</td>\n",
       "      <td>0.0</td>\n",
       "      <td>1.0</td>\n",
       "      <td>-0.445445</td>\n",
       "      <td>1.0</td>\n",
       "      <td>0.116827</td>\n",
       "      <td>0.0</td>\n",
       "      <td>-0.042528</td>\n",
       "      <td>0.071622</td>\n",
       "      <td>0.0</td>\n",
       "      <td>0</td>\n",
       "    </tr>\n",
       "    <tr>\n",
       "      <th>4</th>\n",
       "      <td>0.0</td>\n",
       "      <td>1.0</td>\n",
       "      <td>0.0</td>\n",
       "      <td>1.0</td>\n",
       "      <td>0.0</td>\n",
       "      <td>1.0</td>\n",
       "      <td>-0.177735</td>\n",
       "      <td>0.0</td>\n",
       "      <td>-0.186562</td>\n",
       "      <td>0.0</td>\n",
       "      <td>1.945146</td>\n",
       "      <td>2.141882</td>\n",
       "      <td>1.0</td>\n",
       "      <td>0</td>\n",
       "    </tr>\n",
       "  </tbody>\n",
       "</table>\n",
       "</div>"
      ],
      "text/plain": [
       "   thal_3.0  thal_7.0  cp_4.0  ca_0.0  exang_1.0  exang_0.0   oldpeak  \\\n",
       "0       0.0       1.0     1.0     0.0        1.0        0.0  1.071575   \n",
       "1       1.0       0.0     0.0     1.0        0.0        1.0 -0.891627   \n",
       "2       0.0       1.0     0.0     0.0        0.0        1.0  0.714629   \n",
       "3       1.0       0.0     0.0     1.0        0.0        1.0 -0.445445   \n",
       "4       0.0       1.0     0.0     1.0        0.0        1.0 -0.177735   \n",
       "\n",
       "   slope_1.0      chol  slope_2.0   thalach  hr_ratio  sex_1.0  target  \n",
       "0        0.0 -0.641646        1.0 -0.837597 -0.736915      1.0       1  \n",
       "1        1.0 -1.286348        0.0  1.061736  2.749978      1.0       0  \n",
       "2        0.0 -0.357219        1.0 -0.175039 -0.619566      1.0       0  \n",
       "3        1.0  0.116827        0.0 -0.042528  0.071622      0.0       0  \n",
       "4        0.0 -0.186562        0.0  1.945146  2.141882      1.0       0  "
      ]
     },
     "metadata": {},
     "output_type": "display_data"
    },
    {
     "data": {
      "text/plain": [
       "target\n",
       "0    17\n",
       "1    14\n",
       "Name: count, dtype: int64"
      ]
     },
     "metadata": {},
     "output_type": "display_data"
    },
    {
     "name": "stdout",
     "output_type": "stream",
     "text": [
      "Shape df:  (31, 14)\n",
      "Shape X:  (31, 13)\n",
      "Shape y:  (31,)\n"
     ]
    }
   ],
   "source": [
    "X_test_fe, y_test_fe = read_csv(\"splits/fe_test.csv\") "
   ]
  },
  {
   "cell_type": "markdown",
   "metadata": {
    "id": "0tHx0Mmo7Tzf"
   },
   "source": [
    "## 3.Naive Bayes Classifier"
   ]
  },
  {
   "cell_type": "code",
   "execution_count": 10,
   "metadata": {
    "id": "e0lKNWSVRFTg"
   },
   "outputs": [],
   "source": [
    "def evaluate_val(X_train, y_train, X_val, y_val):\n",
    "    # Huấn luyện Naive Bayes\n",
    "    nbc_model = GaussianNB()\n",
    "    nbc_model.fit(X_train, y_train)\n",
    "\n",
    "    # Dự đoán và đánh giá trên tập val\n",
    "    nb_pred = nbc_model.predict(X_val)\n",
    "    nb_accuracy = accuracy_score(y_val, nb_pred)\n",
    "\n",
    "    print(f\"Độ chính xác Naive Bayes: {nb_accuracy:.4f}\")\n",
    "    print(\"\\nClassification Report:\")\n",
    "    print(classification_report(y_val, nb_pred))\n",
    "    return nbc_model, nb_accuracy\n",
    "\n",
    "\n",
    "def evaluate_test(nbc_model, X_test, y_test):\n",
    "    # Dự đoán và đánh giá trên tập test\n",
    "    nb_test_pred = nbc_model.predict(X_test)\n",
    "    nb_test_accuracy = accuracy_score(y_test, nb_test_pred)\n",
    "    print(f\"Độ chính xác Naive Bayes trên tập test: {nb_test_accuracy:.4f}\")\n",
    "    print(\"\\nClassification Report:\")\n",
    "    print(classification_report(y_test, nb_test_pred))\n",
    "    return nb_test_accuracy\n"
   ]
  },
  {
   "cell_type": "markdown",
   "metadata": {
    "id": "nfnbmkncO8gE"
   },
   "source": [
    "### 3.1 NBC on Original Dataset"
   ]
  },
  {
   "cell_type": "code",
   "execution_count": 14,
   "metadata": {
    "id": "jMVWMcHZ7Z1P"
   },
   "outputs": [
    {
     "name": "stdout",
     "output_type": "stream",
     "text": [
      "Độ chính xác Naive Bayes: 0.9000\n",
      "\n",
      "Classification Report:\n",
      "              precision    recall  f1-score   support\n",
      "\n",
      "           0       1.00      0.81      0.90        16\n",
      "           1       0.82      1.00      0.90        14\n",
      "\n",
      "    accuracy                           0.90        30\n",
      "   macro avg       0.91      0.91      0.90        30\n",
      "weighted avg       0.92      0.90      0.90        30\n",
      "\n",
      "Độ chính xác Naive Bayes trên tập test: 0.8387\n",
      "\n",
      "Classification Report:\n",
      "              precision    recall  f1-score   support\n",
      "\n",
      "           0       0.93      0.76      0.84        17\n",
      "           1       0.76      0.93      0.84        14\n",
      "\n",
      "    accuracy                           0.84        31\n",
      "   macro avg       0.85      0.85      0.84        31\n",
      "weighted avg       0.85      0.84      0.84        31\n",
      "\n"
     ]
    }
   ],
   "source": [
    "# Huấn luyện và đánh giá với dữ liệu gốc\n",
    "model, accuracy = evaluate_val(X_train, y_train, X_val, y_val)\n",
    "test_accuracy = evaluate_test(model, X_test, y_test)"
   ]
  },
  {
   "cell_type": "markdown",
   "metadata": {
    "id": "eebxRODiPEGJ"
   },
   "source": [
    "### 3.2 NBC on Feature Engineering Dataset"
   ]
  },
  {
   "cell_type": "code",
   "execution_count": 15,
   "metadata": {
    "id": "ZQMn9WyMPHcu"
   },
   "outputs": [
    {
     "name": "stdout",
     "output_type": "stream",
     "text": [
      "Độ chính xác Naive Bayes: 0.9000\n",
      "\n",
      "Classification Report:\n",
      "              precision    recall  f1-score   support\n",
      "\n",
      "           0       1.00      0.81      0.90        16\n",
      "           1       0.82      1.00      0.90        14\n",
      "\n",
      "    accuracy                           0.90        30\n",
      "   macro avg       0.91      0.91      0.90        30\n",
      "weighted avg       0.92      0.90      0.90        30\n",
      "\n",
      "Độ chính xác Naive Bayes trên tập test: 0.8387\n",
      "\n",
      "Classification Report:\n",
      "              precision    recall  f1-score   support\n",
      "\n",
      "           0       0.93      0.76      0.84        17\n",
      "           1       0.76      0.93      0.84        14\n",
      "\n",
      "    accuracy                           0.84        31\n",
      "   macro avg       0.85      0.85      0.84        31\n",
      "weighted avg       0.85      0.84      0.84        31\n",
      "\n"
     ]
    }
   ],
   "source": [
    "# Huấn luyện và đánh giá với kỹ thuật tạo đặc trưng\n",
    "model_fe, accuracy_fe = evaluate_val(X_train_fe, y_train_fe, X_val_fe, y_val_fe)\n",
    "test_accuracy_fe = evaluate_test(model_fe, X_test_fe, y_test_fe)\n"
   ]
  },
  {
   "cell_type": "markdown",
   "metadata": {
    "id": "pikK4F4iO50U"
   },
   "source": [
    "## 4.Result Visualization"
   ]
  },
  {
   "cell_type": "code",
   "execution_count": 16,
   "metadata": {
    "id": "Ko31Zp2tKPmP"
   },
   "outputs": [
    {
     "data": {
      "image/png": "[encoded data removed]",
      "text/plain": [
       "<Figure size 500x500 with 1 Axes>"
      ]
     },
     "metadata": {},
     "output_type": "display_data"
    }
   ],
   "source": [
    "plt.rcParams['font.family'] = 'DejaVu Serif'\n",
    "\n",
    "labels = ['Original Dataset', 'Feature Engineering Dataset']\n",
    "val_accs  = [accuracy, accuracy_fe]\n",
    "test_accs = [test_accuracy, test_accuracy_fe]\n",
    "\n",
    "x = np.arange(len(labels))\n",
    "width = 0.3\n",
    "\n",
    "fig, ax = plt.subplots(figsize=(5, 5))\n",
    "\n",
    "rects1 = ax.bar(x - width/2, val_accs,  width,\n",
    "                label='Validation Accuracy',\n",
    "                color='tab:blue', edgecolor='black', linewidth=1.2)\n",
    "rects2 = ax.bar(x + width/2, test_accs, width,\n",
    "                label='Test Accuracy',\n",
    "                color='tab:red', edgecolor='black', linewidth=1.2)\n",
    "\n",
    "ax.set_ylim(0.5, 1.0)\n",
    "ax.set_ylabel('Accuracy')\n",
    "ax.set_title('Acc trên tập Val và Test')\n",
    "ax.set_xticks(x)\n",
    "ax.set_xticklabels(labels)\n",
    "ax.legend(ncol=2, loc=\"upper center\")\n",
    "\n",
    "def autolabel(rects):\n",
    "    for rect in rects:\n",
    "        h = rect.get_height()\n",
    "        ax.annotate(f'{h:.2f}', xy=(rect.get_x()+rect.get_width()/2, h),\n",
    "                    ha='center', va='bottom')\n",
    "\n",
    "autolabel(rects1)\n",
    "autolabel(rects2)\n",
    "\n",
    "fig.tight_layout()\n",
    "fig.savefig(\"accuracy_comparison.png\", dpi=300, bbox_inches=\"tight\")\n",
    "fig.savefig(\"accuracy_comparison.pdf\", bbox_inches=\"tight\")\n",
    "plt.show()\n"
   ]
  },
  {
   "cell_type": "code",
   "execution_count": null,
   "metadata": {},
   "outputs": [],
   "source": []
  }
 ],
 "metadata": {
  "colab": {
   "provenance": []
  },
  "kernelspec": {
   "display_name": ".venv",
   "language": "python",
   "name": "python3"
  },
  "language_info": {
   "codemirror_mode": {
    "name": "ipython",
    "version": 3
   },
   "file_extension": ".py",
   "mimetype": "text/x-python",
   "name": "python",
   "nbconvert_exporter": "python",
   "pygments_lexer": "ipython3",
   "version": "3.12.10"
  }
 },
 "nbformat": 4,
 "nbformat_minor": 0
}
