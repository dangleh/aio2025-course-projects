{
 "cells": [
  {
   "cell_type": "markdown",
   "metadata": {
    "id": "CfWdMCvXw7vL"
   },
   "source": [
    "## 1.Environment Setup"
   ]
  },
  {
   "cell_type": "code",
   "execution_count": 1,
   "metadata": {
    "colab": {
     "base_uri": "https://localhost:8080/"
    },
    "executionInfo": {
     "elapsed": 49,
     "status": "ok",
     "timestamp": 1755877264772,
     "user": {
      "displayName": "Quang Pham",
      "userId": "17869589521794019956"
     },
     "user_tz": -420
    },
    "id": "RuIFAMhRxEy0",
    "outputId": "754c20a6-129c-4683-e976-635b63933abc"
   },
   "outputs": [
    {
     "name": "stdout",
     "output_type": "stream",
     "text": [
      "Seed: 42\n"
     ]
    }
   ],
   "source": [
    "# Import thư viện cần thiết\n",
    "import os\n",
    "import random\n",
    "import warnings\n",
    "import numpy as np\n",
    "import pandas as pd\n",
    "import seaborn as sns\n",
    "import matplotlib.pyplot as plt\n",
    "\n",
    "from collections import Counter\n",
    "from sklearn.cluster import KMeans\n",
    "from sklearn.pipeline import Pipeline\n",
    "from sklearn.naive_bayes import GaussianNB\n",
    "from sklearn.ensemble import StackingClassifier\n",
    "from sklearn.tree import DecisionTreeClassifier\n",
    "from sklearn.neighbors import KNeighborsClassifier\n",
    "from sklearn.preprocessing import StandardScaler\n",
    "from sklearn.metrics import accuracy_score, classification_report\n",
    "from sklearn.model_selection import train_test_split\n",
    "\n",
    "warnings.filterwarnings(\"ignore\")\n",
    "\n",
    "# Đặt seed để đảm bảo kết quả nhất quán giữa các lần chạy\n",
    "SEED = 42\n",
    "os.environ[\"PYTHONHASHSEED\"] = str(SEED)\n",
    "np.random.seed(SEED)\n",
    "random.seed(SEED)\n",
    "print(f\"Seed: {SEED}\")"
   ]
  },
  {
   "cell_type": "markdown",
   "metadata": {
    "id": "Pj3YcYfqx0fO"
   },
   "source": [
    "## 2.Data Processing"
   ]
  },
  {
   "cell_type": "code",
   "execution_count": null,
   "metadata": {
    "colab": {
     "base_uri": "https://localhost:8080/"
    },
    "executionInfo": {
     "elapsed": 3421,
     "status": "ok",
     "timestamp": 1755877269471,
     "user": {
      "displayName": "Quang Pham",
      "userId": "17869589521794019956"
     },
     "user_tz": -420
    },
    "id": "L79d_X_IONs0",
    "outputId": "785b659d-b484-4b51-c424-314cb4188a18"
   },
   "outputs": [
    {
     "name": "stdout",
     "output_type": "stream",
     "text": [
      "Downloading...\n",
      "From: https://drive.google.com/uc?id=1T6AWCoyeC2MqGvmqZPPcA4ni5Md1k0sI\n",
      "To: /content/dataset.zip\n",
      "\r  0% 0.00/21.1k [00:00<?, ?B/s]\r100% 21.1k/21.1k [00:00<00:00, 59.0MB/s]\n"
     ]
    }
   ],
   "source": [
    "# https://drive.google.com/file/d/1T6AWCoyeC2MqGvmqZPPcA4ni5Md1k0sI/view?usp=sharing\n",
    "!gdown 1T6AWCoyeC2MqGvmqZPPcA4ni5Md1k0sI\n"
   ]
  },
  {
   "cell_type": "code",
   "execution_count": null,
   "metadata": {
    "colab": {
     "base_uri": "https://localhost:8080/"
    },
    "executionInfo": {
     "elapsed": 134,
     "status": "ok",
     "timestamp": 1755877272380,
     "user": {
      "displayName": "Quang Pham",
      "userId": "17869589521794019956"
     },
     "user_tz": -420
    },
    "id": "3oEcMr9Cu8-F",
    "outputId": "90624a90-2b37-4361-d5af-4ff46cc4c72a"
   },
   "outputs": [
    {
     "name": "stdout",
     "output_type": "stream",
     "text": [
      "Archive:  dataset.zip\n",
      "   creating: splits/\n",
      "  inflating: splits/fe_train.csv     \n",
      "  inflating: splits/raw_test.csv     \n",
      "  inflating: splits/raw_val.csv      \n",
      "  inflating: splits/fe_test.csv      \n",
      "  inflating: splits/fe_val.csv       \n",
      "  inflating: splits/fe_feature_names.json  \n",
      "  inflating: splits/raw_train.csv    \n"
     ]
    }
   ],
   "source": [
    "!unzip dataset.zip\n"
   ]
  },
  {
   "cell_type": "code",
   "execution_count": null,
   "metadata": {
    "id": "qvmgAX6EH2Ui"
   },
   "outputs": [],
   "source": [
    "def read_csv(file_path):\n",
    "    df = pd.read_csv(file_path)\n",
    "    display(df.head())\n",
    "\n",
    "    X = df.drop(\"target\", axis=1)\n",
    "    y = df[\"target\"]\n",
    "    display(y.value_counts())\n",
    "\n",
    "    print(\"Shape df: \", df.shape)\n",
    "    print(\"Shape X: \", X.shape)\n",
    "    print(\"Shape y: \", y.shape)\n",
    "\n",
    "    return X, y"
   ]
  },
  {
   "cell_type": "markdown",
   "metadata": {
    "id": "GvfTDDbWFSpq"
   },
   "source": [
    "### 2.1 Original Dataset"
   ]
  },
  {
   "cell_type": "code",
   "execution_count": null,
   "metadata": {
    "id": "NryFLD27F7gO"
   },
   "outputs": [],
   "source": [
    "X_train, y_train = read_csv(\"splits/raw_train.csv\") "
   ]
  },
  {
   "cell_type": "code",
   "execution_count": null,
   "metadata": {
    "id": "vNt4zdxqGxXI"
   },
   "outputs": [],
   "source": [
    "X_val, y_val = read_csv(\"splits/raw_val.csv\")"
   ]
  },
  {
   "cell_type": "code",
   "execution_count": null,
   "metadata": {
    "id": "7UX46cMbGzci"
   },
   "outputs": [],
   "source": [
    "X_test, y_test = read_csv(\"splits/raw_test.csv\")"
   ]
  },
  {
   "cell_type": "markdown",
   "metadata": {
    "id": "EMwUSQdLFWlM"
   },
   "source": [
    "### 2.2 Feature Engineering Dataset"
   ]
  },
  {
   "cell_type": "code",
   "execution_count": null,
   "metadata": {
    "id": "SvaktUNcIUZQ"
   },
   "outputs": [],
   "source": [
    "X_train_fe, y_train_fe = read_csv(\"splits/fe_train.csv\") "
   ]
  },
  {
   "cell_type": "code",
   "execution_count": null,
   "metadata": {
    "id": "QvTbShmpMvPz"
   },
   "outputs": [],
   "source": [
    "X_val_fe, y_val_fe = read_csv(\"splits/fe_val.csv.csv\") "
   ]
  },
  {
   "cell_type": "code",
   "execution_count": null,
   "metadata": {
    "id": "h_0TrLFYHJKG"
   },
   "outputs": [],
   "source": [
    "X_test_fe, y_test_fe = read_csv(\"splits/fe_test.csv\") "
   ]
  },
  {
   "cell_type": "markdown",
   "metadata": {
    "id": "0tHx0Mmo7Tzf"
   },
   "source": [
    "## 3.Naive Bayes Classifier"
   ]
  },
  {
   "cell_type": "code",
   "execution_count": null,
   "metadata": {
    "id": "e0lKNWSVRFTg"
   },
   "outputs": [],
   "source": [
    "def evaluate_val(X_train, y_train, X_val, y_val):\n",
    "    # Huấn luyện Naive Bayes\n",
    "    nbc_model = GaussianNB()\n",
    "    ### <Your Code>\n",
    "\n",
    "    # Dự đoán và đánh giá trên tập val\n",
    "    nb_pred = ### <Your Code>\n",
    "    nb_accuracy = ### <Your Code>\n",
    "\n",
    "    print(f\"Độ chính xác Naive Bayes: {nb_accuracy:.4f}\")\n",
    "    print(\"\\nClassification Report:\")\n",
    "    print(classification_report(y_val, nb_pred))\n",
    "    return nbc_model, nb_accuracy\n",
    "\n",
    "\n",
    "def evaluate_test(nbc_model, X_test, y_test):\n",
    "    # Dự đoán và đánh giá trên tập test\n",
    "    nb_test_pred = ### <Your Code>\n",
    "    nb_test_accuracy = ### <Your Code>\n",
    "    print(f\"Độ chính xác Naive Bayes trên tập test: {nb_test_accuracy:.4f}\")\n",
    "    print(\"\\nClassification Report:\")\n",
    "    print(classification_report(y_test, nb_test_pred))\n",
    "    return nb_test_accuracy\n"
   ]
  },
  {
   "cell_type": "markdown",
   "metadata": {
    "id": "nfnbmkncO8gE"
   },
   "source": [
    "### 3.1 NBC on Original Dataset"
   ]
  },
  {
   "cell_type": "code",
   "execution_count": null,
   "metadata": {
    "id": "jMVWMcHZ7Z1P"
   },
   "outputs": [],
   "source": [
    "# Huấn luyện và đánh giá với dữ liệu gốc\n",
    "model, accuracy = ### <Your Code>\n",
    "test_accuracy = ### <Your Code>\n"
   ]
  },
  {
   "cell_type": "markdown",
   "metadata": {
    "id": "eebxRODiPEGJ"
   },
   "source": [
    "### 3.2 NBC on Feature Engineering Dataset"
   ]
  },
  {
   "cell_type": "code",
   "execution_count": null,
   "metadata": {
    "id": "ZQMn9WyMPHcu"
   },
   "outputs": [],
   "source": [
    "# Huấn luyện và đánh giá với kỹ thuật tạo đặc trưng\n",
    "model_fe, accuracy_fe = ### <Your Code>\n",
    "test_accuracy_fe = ### <Your Code>\n"
   ]
  },
  {
   "cell_type": "markdown",
   "metadata": {
    "id": "pikK4F4iO50U"
   },
   "source": [
    "## 4.Result Visualization"
   ]
  },
  {
   "cell_type": "code",
   "execution_count": null,
   "metadata": {
    "id": "Ko31Zp2tKPmP"
   },
   "outputs": [],
   "source": [
    "plt.rcParams['font.family'] = 'DejaVu Serif'\n",
    "\n",
    "labels = ['Original Dataset', 'Feature Engineering Dataset']\n",
    "val_accs  = [accuracy, accuracy_fe]\n",
    "test_accs = [test_accuracy, test_accuracy_fe]\n",
    "\n",
    "x = np.arange(len(labels))\n",
    "width = 0.3\n",
    "\n",
    "fig, ax = plt.subplots(figsize=(5, 5))\n",
    "\n",
    "rects1 = ax.bar(x - width/2, val_accs,  width,\n",
    "                label='Validation Accuracy',\n",
    "                color='tab:blue', edgecolor='black', linewidth=1.2)\n",
    "rects2 = ax.bar(x + width/2, test_accs, width,\n",
    "                label='Test Accuracy',\n",
    "                color='tab:red', edgecolor='black', linewidth=1.2)\n",
    "\n",
    "ax.set_ylim(0.5, 1.0)\n",
    "ax.set_ylabel('Accuracy')\n",
    "ax.set_title('Acc trên tập Val và Test')\n",
    "ax.set_xticks(x)\n",
    "ax.set_xticklabels(labels)\n",
    "ax.legend(ncol=2, loc=\"upper center\")\n",
    "\n",
    "def autolabel(rects):\n",
    "    for rect in rects:\n",
    "        h = rect.get_height()\n",
    "        ax.annotate(f'{h:.2f}', xy=(rect.get_x()+rect.get_width()/2, h),\n",
    "                    ha='center', va='bottom')\n",
    "\n",
    "autolabel(rects1)\n",
    "autolabel(rects2)\n",
    "\n",
    "fig.tight_layout()\n",
    "fig.savefig(\"accuracy_comparison.png\", dpi=300, bbox_inches=\"tight\")\n",
    "fig.savefig(\"accuracy_comparison.pdf\", bbox_inches=\"tight\")\n",
    "plt.show()\n"
   ]
  }
 ],
 "metadata": {
  "colab": {
   "provenance": []
  },
  "kernelspec": {
   "display_name": ".venv",
   "language": "python",
   "name": "python3"
  },
  "language_info": {
   "codemirror_mode": {
    "name": "ipython",
    "version": 3
   },
   "file_extension": ".py",
   "mimetype": "text/x-python",
   "name": "python",
   "nbconvert_exporter": "python",
   "pygments_lexer": "ipython3",
   "version": "3.12.10"
  }
 },
 "nbformat": 4,
 "nbformat_minor": 0
}
